{
 "cells": [
  {
   "cell_type": "markdown",
   "metadata": {},
   "source": [
    "# UNData API Exercise"
   ]
  },
  {
   "cell_type": "markdown",
   "metadata": {},
   "source": [
    "\n",
    "In this exercise, you'll redo the data gathering phase of the UNData Exploration project by using APIs (Application Programming Interface) instead of downloading csv files.\n"
   ]
  },
  {
   "cell_type": "code",
   "execution_count": 1,
   "metadata": {},
   "outputs": [],
   "source": [
    "import requests\n",
    "import pandas as pd\n",
    "import numpy as np\n",
    "import json"
   ]
  },
  {
   "cell_type": "markdown",
   "metadata": {},
   "source": [
    "\n",
    "You'll make use of the [World Bank Indicators API](https://datahelpdesk.worldbank.org/knowledgebase/articles/889392-about-the-indicators-api-documentation). Note that this API does not require an API key. Before attempting the exercise, it would be a good idea to skim through the Documentation page and to check out the [Basic Call Structure article](https://datahelpdesk.worldbank.org/knowledgebase/articles/898581).\n"
   ]
  },
  {
   "cell_type": "markdown",
   "metadata": {},
   "source": [
    "1. Use the API to get all available data for the _GDP per capita, PPP (constant 2021 international $)_ indicator. Hint: this indicator has code \"NY.GDP.PCAP.PP.KD\". Adjust the query parameters so that you can retrieve all available rows. Convert the results to a DataFrame."
   ]
  },
  {
   "cell_type": "code",
   "execution_count": 9,
   "metadata": {},
   "outputs": [
    {
     "data": {
      "text/plain": [
       "<Response [200]>"
      ]
     },
     "execution_count": 9,
     "metadata": {},
     "output_type": "execute_result"
    }
   ],
   "source": [
    "endpoint = 'https://api.worldbank.org/v2/country/all/indicator/NY.GDP.PCAP.PP.KD'#?format=json\n",
    "params = {\n",
    "    'format': 'json',\n",
    "    'Per_page' : 296\n",
    "}\n",
    "response = requests.get(endpoint, params=params)\n",
    "response"
   ]
  },
  {
   "cell_type": "code",
   "execution_count": 14,
   "metadata": {},
   "outputs": [
    {
     "data": {
      "text/html": [
       "<div>\n",
       "<style scoped>\n",
       "    .dataframe tbody tr th:only-of-type {\n",
       "        vertical-align: middle;\n",
       "    }\n",
       "\n",
       "    .dataframe tbody tr th {\n",
       "        vertical-align: top;\n",
       "    }\n",
       "\n",
       "    .dataframe thead th {\n",
       "        text-align: right;\n",
       "    }\n",
       "</style>\n",
       "<table border=\"1\" class=\"dataframe\">\n",
       "  <thead>\n",
       "    <tr style=\"text-align: right;\">\n",
       "      <th></th>\n",
       "      <th>countryiso3code</th>\n",
       "      <th>date</th>\n",
       "      <th>value</th>\n",
       "      <th>unit</th>\n",
       "      <th>obs_status</th>\n",
       "      <th>decimal</th>\n",
       "      <th>indicator.id</th>\n",
       "      <th>indicator.value</th>\n",
       "      <th>country.id</th>\n",
       "      <th>country.value</th>\n",
       "    </tr>\n",
       "  </thead>\n",
       "  <tbody>\n",
       "    <tr>\n",
       "      <th>0</th>\n",
       "      <td>AFE</td>\n",
       "      <td>2023</td>\n",
       "      <td>4047.007031</td>\n",
       "      <td></td>\n",
       "      <td></td>\n",
       "      <td>0</td>\n",
       "      <td>NY.GDP.PCAP.PP.KD</td>\n",
       "      <td>GDP per capita, PPP (constant 2021 internation...</td>\n",
       "      <td>ZH</td>\n",
       "      <td>Africa Eastern and Southern</td>\n",
       "    </tr>\n",
       "    <tr>\n",
       "      <th>1</th>\n",
       "      <td>AFE</td>\n",
       "      <td>2022</td>\n",
       "      <td>4038.638689</td>\n",
       "      <td></td>\n",
       "      <td></td>\n",
       "      <td>0</td>\n",
       "      <td>NY.GDP.PCAP.PP.KD</td>\n",
       "      <td>GDP per capita, PPP (constant 2021 internation...</td>\n",
       "      <td>ZH</td>\n",
       "      <td>Africa Eastern and Southern</td>\n",
       "    </tr>\n",
       "    <tr>\n",
       "      <th>2</th>\n",
       "      <td>AFE</td>\n",
       "      <td>2021</td>\n",
       "      <td>3994.171654</td>\n",
       "      <td></td>\n",
       "      <td></td>\n",
       "      <td>0</td>\n",
       "      <td>NY.GDP.PCAP.PP.KD</td>\n",
       "      <td>GDP per capita, PPP (constant 2021 internation...</td>\n",
       "      <td>ZH</td>\n",
       "      <td>Africa Eastern and Southern</td>\n",
       "    </tr>\n",
       "    <tr>\n",
       "      <th>3</th>\n",
       "      <td>AFE</td>\n",
       "      <td>2020</td>\n",
       "      <td>3919.499230</td>\n",
       "      <td></td>\n",
       "      <td></td>\n",
       "      <td>0</td>\n",
       "      <td>NY.GDP.PCAP.PP.KD</td>\n",
       "      <td>GDP per capita, PPP (constant 2021 internation...</td>\n",
       "      <td>ZH</td>\n",
       "      <td>Africa Eastern and Southern</td>\n",
       "    </tr>\n",
       "    <tr>\n",
       "      <th>4</th>\n",
       "      <td>AFE</td>\n",
       "      <td>2019</td>\n",
       "      <td>4130.057222</td>\n",
       "      <td></td>\n",
       "      <td></td>\n",
       "      <td>0</td>\n",
       "      <td>NY.GDP.PCAP.PP.KD</td>\n",
       "      <td>GDP per capita, PPP (constant 2021 internation...</td>\n",
       "      <td>ZH</td>\n",
       "      <td>Africa Eastern and Southern</td>\n",
       "    </tr>\n",
       "    <tr>\n",
       "      <th>...</th>\n",
       "      <td>...</td>\n",
       "      <td>...</td>\n",
       "      <td>...</td>\n",
       "      <td>...</td>\n",
       "      <td>...</td>\n",
       "      <td>...</td>\n",
       "      <td>...</td>\n",
       "      <td>...</td>\n",
       "      <td>...</td>\n",
       "      <td>...</td>\n",
       "    </tr>\n",
       "    <tr>\n",
       "      <th>291</th>\n",
       "      <td>CEB</td>\n",
       "      <td>1988</td>\n",
       "      <td>NaN</td>\n",
       "      <td></td>\n",
       "      <td></td>\n",
       "      <td>0</td>\n",
       "      <td>NY.GDP.PCAP.PP.KD</td>\n",
       "      <td>GDP per capita, PPP (constant 2021 internation...</td>\n",
       "      <td>B8</td>\n",
       "      <td>Central Europe and the Baltics</td>\n",
       "    </tr>\n",
       "    <tr>\n",
       "      <th>292</th>\n",
       "      <td>CEB</td>\n",
       "      <td>1987</td>\n",
       "      <td>NaN</td>\n",
       "      <td></td>\n",
       "      <td></td>\n",
       "      <td>0</td>\n",
       "      <td>NY.GDP.PCAP.PP.KD</td>\n",
       "      <td>GDP per capita, PPP (constant 2021 internation...</td>\n",
       "      <td>B8</td>\n",
       "      <td>Central Europe and the Baltics</td>\n",
       "    </tr>\n",
       "    <tr>\n",
       "      <th>293</th>\n",
       "      <td>CEB</td>\n",
       "      <td>1986</td>\n",
       "      <td>NaN</td>\n",
       "      <td></td>\n",
       "      <td></td>\n",
       "      <td>0</td>\n",
       "      <td>NY.GDP.PCAP.PP.KD</td>\n",
       "      <td>GDP per capita, PPP (constant 2021 internation...</td>\n",
       "      <td>B8</td>\n",
       "      <td>Central Europe and the Baltics</td>\n",
       "    </tr>\n",
       "    <tr>\n",
       "      <th>294</th>\n",
       "      <td>CEB</td>\n",
       "      <td>1985</td>\n",
       "      <td>NaN</td>\n",
       "      <td></td>\n",
       "      <td></td>\n",
       "      <td>0</td>\n",
       "      <td>NY.GDP.PCAP.PP.KD</td>\n",
       "      <td>GDP per capita, PPP (constant 2021 internation...</td>\n",
       "      <td>B8</td>\n",
       "      <td>Central Europe and the Baltics</td>\n",
       "    </tr>\n",
       "    <tr>\n",
       "      <th>295</th>\n",
       "      <td>CEB</td>\n",
       "      <td>1984</td>\n",
       "      <td>NaN</td>\n",
       "      <td></td>\n",
       "      <td></td>\n",
       "      <td>0</td>\n",
       "      <td>NY.GDP.PCAP.PP.KD</td>\n",
       "      <td>GDP per capita, PPP (constant 2021 internation...</td>\n",
       "      <td>B8</td>\n",
       "      <td>Central Europe and the Baltics</td>\n",
       "    </tr>\n",
       "  </tbody>\n",
       "</table>\n",
       "<p>296 rows × 10 columns</p>\n",
       "</div>"
      ],
      "text/plain": [
       "    countryiso3code  date        value unit obs_status  decimal  \\\n",
       "0               AFE  2023  4047.007031                        0   \n",
       "1               AFE  2022  4038.638689                        0   \n",
       "2               AFE  2021  3994.171654                        0   \n",
       "3               AFE  2020  3919.499230                        0   \n",
       "4               AFE  2019  4130.057222                        0   \n",
       "..              ...   ...          ...  ...        ...      ...   \n",
       "291             CEB  1988          NaN                        0   \n",
       "292             CEB  1987          NaN                        0   \n",
       "293             CEB  1986          NaN                        0   \n",
       "294             CEB  1985          NaN                        0   \n",
       "295             CEB  1984          NaN                        0   \n",
       "\n",
       "          indicator.id                                    indicator.value  \\\n",
       "0    NY.GDP.PCAP.PP.KD  GDP per capita, PPP (constant 2021 internation...   \n",
       "1    NY.GDP.PCAP.PP.KD  GDP per capita, PPP (constant 2021 internation...   \n",
       "2    NY.GDP.PCAP.PP.KD  GDP per capita, PPP (constant 2021 internation...   \n",
       "3    NY.GDP.PCAP.PP.KD  GDP per capita, PPP (constant 2021 internation...   \n",
       "4    NY.GDP.PCAP.PP.KD  GDP per capita, PPP (constant 2021 internation...   \n",
       "..                 ...                                                ...   \n",
       "291  NY.GDP.PCAP.PP.KD  GDP per capita, PPP (constant 2021 internation...   \n",
       "292  NY.GDP.PCAP.PP.KD  GDP per capita, PPP (constant 2021 internation...   \n",
       "293  NY.GDP.PCAP.PP.KD  GDP per capita, PPP (constant 2021 internation...   \n",
       "294  NY.GDP.PCAP.PP.KD  GDP per capita, PPP (constant 2021 internation...   \n",
       "295  NY.GDP.PCAP.PP.KD  GDP per capita, PPP (constant 2021 internation...   \n",
       "\n",
       "    country.id                   country.value  \n",
       "0           ZH     Africa Eastern and Southern  \n",
       "1           ZH     Africa Eastern and Southern  \n",
       "2           ZH     Africa Eastern and Southern  \n",
       "3           ZH     Africa Eastern and Southern  \n",
       "4           ZH     Africa Eastern and Southern  \n",
       "..         ...                             ...  \n",
       "291         B8  Central Europe and the Baltics  \n",
       "292         B8  Central Europe and the Baltics  \n",
       "293         B8  Central Europe and the Baltics  \n",
       "294         B8  Central Europe and the Baltics  \n",
       "295         B8  Central Europe and the Baltics  \n",
       "\n",
       "[296 rows x 10 columns]"
      ]
     },
     "execution_count": 14,
     "metadata": {},
     "output_type": "execute_result"
    }
   ],
   "source": [
    "pd.json_normalize(response.json()[1])"
   ]
  },
  {
   "cell_type": "markdown",
   "metadata": {},
   "source": [
    "\n",
    "2. Now, use the API to get all available data for _Life expectancy at birth, total (years)_. This indicator has code \"SP.DYN.LE00.IN\". Again, convert the results to a DataFrame.\n"
   ]
  },
  {
   "cell_type": "markdown",
   "metadata": {},
   "source": [
    "\n",
    "3. Merge the two results DataFrames together. You may want to rename or drop columns prior to merging.\n"
   ]
  },
  {
   "cell_type": "markdown",
   "metadata": {},
   "source": [
    "\n",
    "4. You can also get more information about the available countries (region, capital city, income level classification, etc.) by using the [Country API](https://datahelpdesk.worldbank.org/knowledgebase/articles/898590-country-api-queries). Use this API to pull in all available data. Merge this with your other datasets. Use this to now remove the rows that correspond to regions and not countries.\n"
   ]
  },
  {
   "cell_type": "markdown",
   "metadata": {},
   "source": [
    "## **Bonus Questions:** "
   ]
  },
  {
   "cell_type": "markdown",
   "metadata": {},
   "source": [
    "After doing a basic request to get all records, you can attempt these exercises to get additional practice using query parameters.\n"
   ]
  },
  {
   "cell_type": "markdown",
   "metadata": {},
   "source": [
    "\n",
    "1. Adjust your request so that it returns data just for the United States.\n"
   ]
  },
  {
   "cell_type": "markdown",
   "metadata": {},
   "source": [
    "\n",
    "2. Adjust your request so that it returns data just for the United States for the year 2021.\n"
   ]
  },
  {
   "cell_type": "markdown",
   "metadata": {},
   "source": [
    "\n",
    "3. Adjust your request so that it returns data just for the United States for the years 2000 through 2021.\n"
   ]
  },
  {
   "cell_type": "markdown",
   "metadata": {},
   "source": [
    "\n",
    "4. Adjust your request so that it returns data for the United States and Canada for the years 2000 through 2021.\n"
   ]
  },
  {
   "cell_type": "markdown",
   "metadata": {},
   "source": [
    "\n",
    "5. If you haven't already done so and you would like to get some additional practice using loops, use the page parameter in order to pull all records. Do not change the value of the per_page parameter. You will likely need to utilize a loop of some kind in order to pull all records.\n"
   ]
  },
  {
   "cell_type": "markdown",
   "metadata": {},
   "source": [
    "\n",
    "6. The endpoint \"<http://api.worldbank.org/v2/indicator>\" will return information about all available indicators. See [Indicator API Queries](https://datahelpdesk.worldbank.org/knowledgebase/articles/898599-indicator-api-queries). Use this endpoint to find the code for the \"Public Expenditure on Education (% GDP)\" indicator."
   ]
  }
 ],
 "metadata": {
  "kernelspec": {
   "display_name": "base",
   "language": "python",
   "name": "python3"
  },
  "language_info": {
   "codemirror_mode": {
    "name": "ipython",
    "version": 3
   },
   "file_extension": ".py",
   "mimetype": "text/x-python",
   "name": "python",
   "nbconvert_exporter": "python",
   "pygments_lexer": "ipython3",
   "version": "3.12.4"
  }
 },
 "nbformat": 4,
 "nbformat_minor": 2
}
